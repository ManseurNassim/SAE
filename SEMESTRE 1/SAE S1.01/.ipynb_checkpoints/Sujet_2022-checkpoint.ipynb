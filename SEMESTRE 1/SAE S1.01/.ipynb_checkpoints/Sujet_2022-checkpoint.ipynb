{
 "cells": [
  {
   "cell_type": "markdown",
   "metadata": {
    "deletable": false,
    "editable": false,
    "run_control": {
     "frozen": true
    }
   },
   "source": [
    "# <center> Etude de communautés dans un réseau social</center>\n",
    "<center> SAE 1.01 / 2022 - 23 </center>\n",
    "\n"
   ]
  },
  {
   "cell_type": "markdown",
   "metadata": {
    "deletable": false,
    "editable": false,
    "run_control": {
     "frozen": true
    }
   },
   "source": [
    "Cette SAE est à faire en **binôme**.\n",
    "\n",
    "**Calendrier**\n",
    "- Un contrôle de 2h en lien avec le contenu de cette SAE aura lieu le mercredi **26 octobre** 2022.\n",
    "- Le projet est à rendre le vendredi **28 octobre** 2022. Les modalités de rendu vous seront précisées par votre enseignant.\n",
    "\n",
    "**Evaluation**\n",
    "- Le projet comptera pour 40% de la note de SAE 1.01. <BR>\n",
    "    Il sera particulièrement tenu compte de la qualité du code, des **commentaires** et **docstrings**, des fonctions de **tests unitaires** pour les fonctions renvoyant des résultats. <BR><BR>\n",
    "    \n",
    "- Le contrôle compte pour 60% de la note finale."
   ]
  },
  {
   "cell_type": "markdown",
   "metadata": {
    "deletable": false,
    "editable": false,
    "run_control": {
     "frozen": true
    }
   },
   "source": [
    "## <center> Sujet </center>\n",
    "\n",
    "Une *communauté* est un ensemble de personnes développant des interactions dans un réseau social.\n",
    "\n",
    "Dans ce projet, on étudie des communautés modélisées sous différentes formes. Pour cela, on développe des fonctions permettant d'extraire des informations relatives à ces réseaux. "
   ]
  },
  {
   "cell_type": "markdown",
   "metadata": {
    "deletable": false,
    "editable": false,
    "run_control": {
     "frozen": true
    }
   },
   "source": [
    "On modélise, dans un premier temps, les interactions entre personnes dans un tableau `amis` de chaînes de caractères contenant les prénoms des membres du réseau et tel que `amis[2*i]` a des interactions avec `amis[2*i+1]`.\n",
    "\n",
    "On suppose que chaque interaction n'est décrite qu'une seule fois dans le tableau, et qu'une personne n'a pas d'interaction avec elle-même.\n",
    "\n",
    "**Exemple** : "
   ]
  },
  {
   "cell_type": "code",
   "execution_count": 2,
   "metadata": {
    "deletable": false,
    "editable": false
   },
   "outputs": [],
   "source": [
    "amis = [\"Alice\", \"Bob\", \"Alice\", \"Charlie\", \"Bob\", \"Denis\"]"
   ]
  },
  {
   "cell_type": "markdown",
   "metadata": {
    "deletable": false,
    "editable": false,
    "run_control": {
     "frozen": true
    }
   },
   "source": [
    "Ici, \n",
    "- Alice a des interactions Bob et Charlie, \n",
    "- Bob a des intractions avec Alice et Denis,\n",
    "- Charlie a des interactions avec Alice et\n",
    "- Denis a des interactions avec Bob."
   ]
  },
  {
   "cell_type": "markdown",
   "metadata": {
    "deletable": false,
    "editable": false,
    "run_control": {
     "frozen": true
    }
   },
   "source": [
    "#### Question préliminaire : Modélisation d'un réseau par un tableau\n",
    "\n",
    "Muriel, Yasmine et Joël sont amis. Yasmine est amie avec Thomas. \n",
    "Joël, Nassim, Andrea et Ali sont amis. Thomas est ami de Daria et Carole. Thierry, Axel et Léo sont amis. Léo est ami de Valentin qui est ami d'Andrea.\n",
    "\n",
    "- Construire un tableau `p_amis` qui modélise ce réseau d'amitié en selon le principe qui vient d'être décrit."
   ]
  },
  {
   "cell_type": "code",
   "execution_count": 59,
   "metadata": {},
   "outputs": [
    {
     "name": "stdout",
     "output_type": "stream",
     "text": [
      "['Muriel', 'Yasmine', 'Muriel', 'Joël', 'Joël', 'Yasmine', 'Thomas', 'Yasmine', 'Joël', 'Nassim', 'Joël', 'Andrea', 'Joël', 'Ali', 'Nassim', 'Andrea', 'Nassim', 'Ali', 'Ali', 'Andrea', 'Thomas', 'Darias', 'Thomas', 'Carole', 'Axel', 'Thierry', 'Axel', 'Léo', 'Léo', 'Thierry', 'Léo', 'Valentin', 'Valentin', 'Andrea']\n"
     ]
    }
   ],
   "source": [
    "p_amis=[\"Muriel\",\"Yasmine\",\"Muriel\",\"Joël\",\"Joël\",\"Yasmine\",\"Thomas\",\"Yasmine\",\"Joël\",\"Nassim\",\"Joël\",\"Andrea\",\"Joël\",\"Ali\",\"Nassim\",\"Andrea\",\"Nassim\",\"Ali\",\"Ali\",\"Andrea\",\"Thomas\",\"Darias\",\"Thomas\",\"Carole\", \"Axel\",\"Thierry\",\"Axel\",\"Léo\",\"Léo\",\"Thierry\",\"Léo\",\"Valentin\",\"Valentin\",\"Andrea\"] \n",
    "print(p_amis)\n",
    "#une personne est donc amis avec la personne qui le suit si son indice est pair, si son indice est impaire alors il est amis avec la personne qui le précède"
   ]
  },
  {
   "cell_type": "markdown",
   "metadata": {
    "deletable": false,
    "editable": false,
    "run_control": {
     "frozen": true
    }
   },
   "source": [
    "#### Question 1 : Nombre d'amis d'une personne\n",
    "\n",
    "- Étant donné un tableau `amis`, écrire une fonction `nb_amis(amis, prenom)` qui retourne le nombre d'amis de `prenom` à partir des données du tableau `amis`. "
   ]
  },
  {
   "cell_type": "code",
   "execution_count": 34,
   "metadata": {},
   "outputs": [
    {
     "name": "stdout",
     "output_type": "stream",
     "text": [
      "c'est bon!\n"
     ]
    }
   ],
   "source": [
    "def nb_amis(amis, prenom):\n",
    "    '''Cette fonction permet de connaître le nombre d'amis d'une personne suivant la liste rentré (censé représenter le réseau) '''\n",
    "    i=0\n",
    "    cpt=[]#initialisation d'une table ou tout les amis de prenom seront mis\n",
    "    while i < len(amis)/2:#ici la condition d'arret de la boucle est tant que i est inferieur a la longueur de la liste amis/2 car nous travaillons avec des indices que l'on multipli par 2 donc quand i sera = a len(amis)/2 on aura parcourus toute la liste\n",
    "        if prenom==amis[2*i]:#si le prénom est dans la liste et a un indice pair\n",
    "            cpt.append(amis[2*i+1])#alors on met dans la liste le prénom qui suit\n",
    "        elif prenom==amis[2*i+1]:#sinon c'est impair\n",
    "            cpt.append(amis[2*i])#donc on met dans la liste le prénom qui le précède\n",
    "        i+=1\n",
    "    return len(cpt)#on retourne la longueur de la liste , pour l'afficher il faut appeler la fonction avec print devant\n",
    "\n",
    "\n",
    "def test_nb_amis():\n",
    "    assert nb_amis(p_amis,\"Nassim\")==3\n",
    "    assert nb_amis(p_amis,\"Ronaldo\")==0\n",
    "    assert nb_amis(p_amis,\"Andrea\")==4\n",
    "    print(\"c'est bon!\")\n",
    "test_nb_amis()"
   ]
  },
  {
   "cell_type": "markdown",
   "metadata": {
    "deletable": false,
    "editable": false,
    "run_control": {
     "frozen": true
    }
   },
   "source": [
    "#### Question 2 : Nombre de membres d'un réseau social \n",
    "\n",
    "- Ecrire une fonction `taille_reseau(amis)` qui à partir d'un tableau `amis`retourne le nombre de personnes distinctes participant à ce réseau social."
   ]
  },
  {
   "cell_type": "code",
   "execution_count": 33,
   "metadata": {},
   "outputs": [
    {
     "name": "stdout",
     "output_type": "stream",
     "text": [
      "c'est bon!\n"
     ]
    }
   ],
   "source": [
    "def taille_reseau(amis):\n",
    "    \"\"\"Cette fonction renvoie la taille d'un réseau où le réseau est une table, la fonction est un simple compteur qui ne compte pas les doublons\"\"\"\n",
    "    i=0\n",
    "    tab=[]#le tableau servira de compteur\n",
    "    while i<len(amis):#on fait une boucle qui parcours tout les indice de la table amis\n",
    "        if amis[i] not in tab:#si un prenom de amis n'est pas dans tab\n",
    "            tab.append(amis[i])#alors on le met dans tab\n",
    "        i+=1#sinon on ne fait rien donc les doublons sont éliminés\n",
    "    return len(tab)#on retourne la taille de la table et si on veut afficher le résultat il faut un print devant l'appel de la fonction\n",
    "\n",
    "def test_taille_reseau():\n",
    "    assert taille_reseau(p_amis)==13\n",
    "    assert taille_reseau([])==0\n",
    "    assert taille_reseau(lecture_reseau(\"newfiles/Communaute1.csv\"))==20\n",
    "    print(\"c'est bon!\")\n",
    "\n",
    "test_taille_reseau()\n"
   ]
  },
  {
   "cell_type": "markdown",
   "metadata": {
    "deletable": false,
    "editable": false,
    "run_control": {
     "frozen": true
    }
   },
   "source": [
    "#### Question 3 :  Lecture des données d'un réseau à partir d'un fichier\n",
    "On suppose que les données sur un réseau social sont stockées dans un fichier CSV de la manière suivante :\n",
    "```\n",
    "prenom1;prenom2\n",
    "prenom3;prenom4\n",
    "prenom5;prenom6\n",
    "...\n",
    "```\n",
    "Autrement dit, chaque ligne du fichier contient une paire de prénoms séparés par un `';'` correspondant à deux personnes ayant des interactions. \n",
    "\n",
    "**NB** : Quatre fichiers CSV de ce type sont fournis dans le répertoire `files/`, il s'agit des fichiers`Communaute1.csv`, `Communaute2.csv`,`Communaute3.csv` et `Communaute4.csv`. \n",
    "Il est recommandé d'en fabriquer d'autres. \n",
    "\n",
    "- Ecrire une fonction `lecture_reseau(path)` prenant en paramètre un chemin vers un tel fichier CSV et retournant un tableau modélisant les interactions entre les personnes du fichier."
   ]
  },
  {
   "cell_type": "code",
   "execution_count": 40,
   "metadata": {},
   "outputs": [
    {
     "name": "stdout",
     "output_type": "stream",
     "text": [
      "c'est bon!\n"
     ]
    }
   ],
   "source": [
    "def lecture_reseau(path):\n",
    "    \"\"\"Cette fonction permet de lire un fichier csv et d'en faire une liste représentative d'un réseau comme aux précedentes question\"\"\"\n",
    "    f=open(path,encoding=\"utf-8\",mode=\"r\")#on ouvre le fichier pour le lire\n",
    "    data=f.readlines()#on lit toutes les lignes du fichier et on enregistre le tout dans une liste data\n",
    "    f.close()#puis on le ferme\n",
    "    i=0\n",
    "    cha=''#on fait une chaîne de caractère vide\n",
    "    while i<len(data):#on parcours toutes les lignes du fichiers\n",
    "        li=data[i]#pour chaque ligne on l'enregistre dans une variable li\n",
    "        li=li.strip()#on enlève tout les espaces ou retour a la ligne\n",
    "        cha+=li+\";\"#puis on met la ligne dans la chaine de caractère et on ajoute aussi un ; pour pouvoir en faire une liste plus facilement\n",
    "        i+=1\n",
    "    cha=cha.split(\";\")#a la fin de la boucle on transforme la chaîne de caractère par une liste où les éléments sont séparés par les ;\n",
    "    cha.pop()#puis on enlève un élément de la liste car il y a toujours une ligne vide dans les fichiers csv du devoir\n",
    "    return cha #on retourne la table et pareil il faut un print avant pour afficher celle-ci\n",
    "    \n",
    "\n",
    "def test_lecture_reseau():\n",
    "    assert lecture_reseau(\"newfiles/FichierTest.csv\")==['Barbra', 'Cloe', 'Louis', 'Rufino', 'Idelle', 'Mady', 'Björn', 'Giedrius', 'Cloe', 'Glenys', 'Barbra', 'Vittorio', 'Mady', 'Rufino', 'Barbra', 'Marwa', 'Cloe', 'Louis', 'Björn', 'Faizel']\n",
    "    assert lecture_reseau(\"newfiles/FichierVide.csv\")==[]\n",
    "    print(\"c'est bon!\")\n",
    "test_lecture_reseau()"
   ]
  },
  {
   "cell_type": "markdown",
   "metadata": {
    "deletable": false,
    "editable": false,
    "run_control": {
     "frozen": true
    }
   },
   "source": [
    "#### Question 4 : Modélisation d'un réseau par un dictionnaire\n",
    "On préfère pour la suite, utiliser une modélisation du réseau social par un dictionnaire dont où les clés sont les prénoms des personnes du réseau et la valeur associé à une clé est le tableau des amis de la personne indiquée par la clé.\n",
    "\n",
    "- A partir d'un tableau `amis` modélisant les interactions entre personnes d'un réseau, écrire une fonction `dico_reseau(amis)` qui retourne un dictionnaire dont les clés sont les prénoms des membres du réseau et les valeurs le tableau de leurs amis."
   ]
  },
  {
   "cell_type": "code",
   "execution_count": 48,
   "metadata": {},
   "outputs": [
    {
     "name": "stdout",
     "output_type": "stream",
     "text": [
      "{'Muriel': ['Yasmine', 'Joël'], 'Yasmine': ['Muriel', 'Joël', 'Thomas'], 'Joël': ['Muriel', 'Yasmine', 'Nassim', 'Andrea', 'Ali'], 'Thomas': ['Yasmine', 'Darias', 'Carole'], 'Nassim': ['Joël', 'Andrea', 'Ali'], 'Andrea': ['Joël', 'Nassim', 'Ali', 'Valentin'], 'Ali': ['Joël', 'Nassim', 'Andrea'], 'Darias': ['Thomas'], 'Carole': ['Thomas'], 'Axel': ['Thierry', 'Léo'], 'Thierry': ['Axel', 'Léo'], 'Léo': ['Axel', 'Thierry', 'Valentin'], 'Valentin': ['Léo', 'Andrea']}\n",
      "c'est bon !\n"
     ]
    }
   ],
   "source": [
    "def nb_amis2(amis, prenom):#On réecrit la fonction car il y a 1 légers changement au programme de la question 1\n",
    "    \"\"\"Cette fonction permet de connaître les amis d'une personne  sous forme de liste\n",
    "       suivant la liste rentré (censé représenter le réseau) \"\"\"\n",
    "    i=0\n",
    "    cpt=[]\n",
    "    while i < len(amis)/2:\n",
    "        if prenom==amis[2*i]:\n",
    "            cpt.append(amis[2*i+1])\n",
    "        elif prenom==amis[2*i+1]:\n",
    "            cpt.append(amis[2*i])\n",
    "        i+=1\n",
    "    return cpt#le changement est qu'on retourne directement la liste plutot que la longueur de cette liste\n",
    "\n",
    "\n",
    "def dico_reseau(amis):\n",
    "    \"\"\"La fonction dico_reseau va permettre de transformer un reseau sous forme de table en un dictionnaire avec pour couple clef:valeur le nom d'une personne et une liste de tout ses amis\"\"\"\n",
    "    i=0\n",
    "    dico={}#on crée le dictionnaire\n",
    "    while i<len(amis):#on parcours tout le tableau amis\n",
    "        dico[amis[i]]=nb_amis2(amis,amis[i])#on met dans le dictionnaire le prenom de chaque personne distincte en clef et a chaque fois on met en valeur la liste d'amis grace a la fonction nb_amis2\n",
    "        i+=1\n",
    "    return dico#on retourne a la fin le dictionnaire et on a un meilleur affichage avec le print()\n",
    "\n",
    "def test_dico_reseau():\n",
    "    assert dico_reseau(p_amis)=={'Muriel': ['Yasmine', 'Joël'], 'Yasmine': ['Muriel', 'Joël', 'Thomas'], 'Joël': ['Muriel', 'Yasmine', 'Nassim', 'Andrea', 'Ali'], 'Thomas': ['Yasmine', 'Darias', 'Carole'], 'Nassim': ['Joël', 'Andrea', 'Ali'], 'Andrea': ['Joël', 'Nassim', 'Ali', 'Valentin'], 'Ali': ['Joël', 'Nassim', 'Andrea'], 'Darias': ['Thomas'], 'Carole': ['Thomas'], 'Axel': ['Thierry', 'Léo'], 'Thierry': ['Axel', 'Léo'], 'Léo': ['Axel', 'Thierry', 'Valentin'], 'Valentin': ['Léo', 'Andrea']}\n",
    "    assert dico_reseau(lecture_reseau(\"newfiles/FichierVide.csv\"))=={}\n",
    "    assert dico_reseau(lecture_reseau(\"newfiles/FichierTest.csv\"))=={'Barbra': ['Cloe', 'Vittorio', 'Marwa'], 'Cloe': ['Barbra', 'Glenys', 'Louis'], 'Louis': ['Rufino', 'Cloe'], 'Rufino': ['Louis', 'Mady'], 'Idelle': ['Mady'], 'Mady': ['Idelle', 'Rufino'], 'Björn': ['Giedrius', 'Faizel'], 'Giedrius': ['Björn'], 'Glenys': ['Cloe'], 'Vittorio': ['Barbra'], 'Marwa': ['Barbra'], 'Faizel': ['Björn']}\n",
    "    print(\"c'est bon !\")\n",
    "test_dico_reseau()"
   ]
  },
  {
   "cell_type": "markdown",
   "metadata": {},
   "source": [
    "##### "
   ]
  },
  {
   "cell_type": "markdown",
   "metadata": {
    "deletable": false,
    "editable": false,
    "run_control": {
     "frozen": true
    }
   },
   "source": [
    "#### Question 5 : Nombre d'amis des personnes les plus populaires\n",
    "\n",
    "- A partir d'un dictionnaire `dico_reseau` modélisant les interactions dans un réseau d'amis, écrire une fonction `nb_amis_plus_pop (dico_reseau)` qui retourne le nombre d'amis des personnes les plus populaires du réseau."
   ]
  },
  {
   "cell_type": "code",
   "execution_count": 54,
   "metadata": {
    "scrolled": true
   },
   "outputs": [
    {
     "name": "stdout",
     "output_type": "stream",
     "text": [
      "0\n"
     ]
    }
   ],
   "source": [
    "def nb_amis_plus_pop(dico_reseau):\n",
    "    \"\"\"La fonction permet de retourner le nombre maximale d'amis d'un reseau représenter par un dictionnaire , elle compare simplement qui a le plus d'amis et retourne le chiffre maximum\"\"\"\n",
    "    prenom=list(dico_reseau)#prenom est une liste qui prend en élement tout les prénoms distincts du dico_reseau\n",
    "    i=0\n",
    "    max=0#on initilise le max a 0 au cas ou le dictionnaire est vide ce qui ferait qu'on ne rentre pas dans la boucle et qu'on retourne 0\n",
    "    while i<len(dico_reseau):#on parcours tout les élements du dictionnaire\n",
    "        if max<taille_reseau(dico_reseau[prenom[i]]):#si la longueur d'un tableau d'amis d'une personne est plus grande que max\n",
    "            max=taille_reseau(dico_reseau[prenom[i]])#alors max prend cette valeur\n",
    "        i+=1\n",
    "    return max#on renvoie la variable max\n",
    "\n",
    "def test_nb_amis_plus_pop():\n",
    "    assert nb_amis_plus_pop(lecture_reseau(\"newfiles/Communaute1.csv\"))==11\n",
    "    assert nb_amis_plus_pop(lecture_reseau(\"newfiles/FichierVide.csv\"))==0\n",
    "    assert nb_amis_plus_pop(lecture_reseau(\"newfiles/Communaute2.csv\"))==19\n",
    "    print(\"c'est bon !\")\n",
    "nb_test_amis_plus_pop()"
   ]
  },
  {
   "cell_type": "markdown",
   "metadata": {
    "deletable": false,
    "editable": false,
    "run_control": {
     "frozen": true
    }
   },
   "source": [
    "#### Question 6 : Personnes les plus populaires\n",
    "\n",
    "- A partir d'un dictionnaire `dico_reseau` modélisant les interactions dans un réseau d'amis, écrire une fonction `les_plus_pop (dico_reseau)` qui retourne un tableau contenant les prénoms de toutes les personnes les plus populaires du réseau."
   ]
  },
  {
   "cell_type": "code",
   "execution_count": 71,
   "metadata": {},
   "outputs": [
    {
     "name": "stdout",
     "output_type": "stream",
     "text": [
      "c'est bon!\n"
     ]
    }
   ],
   "source": [
    "def les_plus_pop(dico_reseau):\n",
    "    \"\"\"La fonction permet depuis un réseau représenter par un dictionnaire de retourner une liste des personnes les plus populaires, on s'aidera de la fonction nb_amis_plus_pop()\"\"\"\n",
    "    max=nb_amis_plus_pop(dico_reseau)#max prend la valeur maximale d'amis qu'une personne a dans le dictionnaire\n",
    "    prenom=list(dico_reseau)#on utilise la meme variable prenom qui est une liste de tout les prénoms du dictionnaire\n",
    "    maxpop=[]#maxpop est la liste des personnes les plus populaires\n",
    "    i=0\n",
    "    while i<len(dico_reseau):#boucle qui parcours tout les élement du dictionnaire\n",
    "        if max==len(dico_reseau[prenom[i]]):#si la longueur d'un tableau amis d'une personne est égale au max\n",
    "            maxpop.append(prenom[i])#alors on met dans maxpop le nom de cette personne\n",
    "        i+=1\n",
    "    return maxpop#on renvoie la liste des personnes les plus populaires, il faut print la fonction pour afficher la liste\n",
    "\n",
    "\n",
    "def test_les_plus_pop():\n",
    "    assert les_plus_pop(dico_reseau(lecture_reseau(\"newfiles/Communaute1.csv\")))==['Rufino', 'Mady', 'Vittorio']\n",
    "    assert les_plus_pop(dico_reseau(p_amis))==[\"Joël\"]\n",
    "    assert les_plus_pop(dico_reseau(lecture_reseau(\"newfiles/FichierVide.csv\")))==[]\n",
    "    print(\"c'est bon!\")\n",
    "test_les_plus_pop()\n"
   ]
  }
 ],
 "metadata": {
  "kernelspec": {
   "display_name": "Python 3 (ipykernel)",
   "language": "python",
   "name": "python3"
  },
  "language_info": {
   "codemirror_mode": {
    "name": "ipython",
    "version": 3
   },
   "file_extension": ".py",
   "mimetype": "text/x-python",
   "name": "python",
   "nbconvert_exporter": "python",
   "pygments_lexer": "ipython3",
   "version": "3.9.12"
  },
  "latex_envs": {
   "LaTeX_envs_menu_present": true,
   "autoclose": false,
   "autocomplete": true,
   "bibliofile": "biblio.bib",
   "cite_by": "apalike",
   "current_citInitial": 1,
   "eqLabelWithNumbers": true,
   "eqNumInitial": 1,
   "hotkeys": {
    "equation": "Ctrl-E",
    "itemize": "Ctrl-I"
   },
   "labels_anchors": false,
   "latex_user_defs": false,
   "report_style_numbering": false,
   "user_envs_cfg": false
  }
 },
 "nbformat": 4,
 "nbformat_minor": 2
}
